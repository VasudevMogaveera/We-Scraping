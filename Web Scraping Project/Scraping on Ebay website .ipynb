{
 "cells": [
  {
   "cell_type": "code",
   "execution_count": 1,
   "id": "1266f50a",
   "metadata": {},
   "outputs": [
    {
     "name": "stderr",
     "output_type": "stream",
     "text": [
      "C:\\Users\\Ganesh Mogaveera\\anaconda3\\Lib\\site-packages\\pandas\\core\\arrays\\masked.py:60: UserWarning: Pandas requires version '1.3.6' or newer of 'bottleneck' (version '1.3.5' currently installed).\n",
      "  from pandas.core import (\n"
     ]
    }
   ],
   "source": [
    "import pandas as pd \n",
    "import numpy as np\n",
    "from selenium import webdriver\n",
    "from selenium.webdriver.chrome.service import Service\n",
    "from selenium.webdriver.common.keys import Keys"
   ]
  },
  {
   "cell_type": "code",
   "execution_count": 2,
   "id": "7d85ffc6",
   "metadata": {},
   "outputs": [
    {
     "name": "stdout",
     "output_type": "stream",
     "text": [
      "[\"ON Running Cloud 5 Coast - Men's Sneakers White 3MD10531982 Leisure Shoes NEW\", 'Woman Men Shoes Insoles Orthopedic Memory Foam Sport Arch Suppor Soles Pad', \"Crocs Men's and Women's Shoes - Baya Clogs, Slip On Shoes, Waterproof Sandals\", 'Sneakers Mens Socks Shoes Ultra Casual Athletic Running Shoes Lightweight', \"PUMA Men's Astro Play Sneakers\", 'Nike Air Force 1 Low Triple White ‘07 BRAND NEW, MEN AND WOMEN SIZES.', 'Anti-slip Sole Stickers Shoe Grips on Bottom of Shoes Non-slip Pads Protector US', 'Work Boot Shoes Insoles Hiking Trainer Inner Soles Inserts Support Breathable✼', \"PUMA Men's ST MILER Sneakers\", 'Elastic Silicone No Tie Lazy Shoe Laces Shoelaces Trainers For Adults Kids ACC✔', 'Fila Armada Mens Shoes', \"Men's Casual Sneakers Tennis Outdoor Gym Athletic Running Walking Jogging Shoes\", \"PUMA Men's Enzo 2 Revamp Running Shoes\", 'Merrell Men Hydro Moc Shoes', \"PUMA Men's Genetics Marcus Smart Basketball Shoes\", \"ASICS MEN'S GEL SAGA BIRCH BIRCH SHOES\", \"Puma Trinity Lite Mid - Men's Winter Shoes Black 395302-01 Casual Sneakers\", 'German Bundeswehr Style Sports Trainers - Retro Style White Sneaker', 'Mens Hiking Trail Winter Memory Foam Walking Casual Ankle Trainers Shoes Boots', 'Sz 11 Men’s Adidas Alphabounce Running Shoes Sneakers Athletic EUC', \"PUMA Men's Redon Move Shoes\", \"PUMA Men's Star Vital Training Shoes\", \"DC Shoes Men's Court Graffik SE Low Top Sneaker Shoes Gray Black (XSKS)\", \"PUMA Women's Turino II OG Sneakers\", \"PUMA Women's Voltaic Evo Wide Training Shoes\", \"PUMA Men's ST Runner v3 L Sneakers\", \"PUMA Men's SOFTRIDE Carson Sliptech Running Shoes\", 'HEYDUDE Wally Sox- Mens Comfortable Slip on Shoes', \"Crocs Men's and Women's Shoes - Bayaband Clogs, Slip On Water Shoes\", \"Adidas Men's ZG23 Waterproof 6-Spike Golf Shoes NEW\", 'Merrell Men Nova 3 Mid Tactical Waterproof Boot Shoes', \"Crocs PFD Men's On the Clock Slip Resistant Work Sneaker\", \"ON Running Cloud 5 WP Waterproof - Men's Sneakers 59.98840 Sport Fitness Shoes\", \"DVS Men's Comanche Olive/Black/Camo Low Top Sneaker Shoes (301)\", \"Converse Men's Chuck Taylor All Star Classic High Top Sneaker Shoes\", 'Lacoste Elite Active 224 2 SMA - 748SMA0050-P1N', 'Nike Air Max 90 SE Lucha Libre DM6178-010', 'Fila Armada Mens Shoes', 'Merrell Men Chameleon 8 Stretch Hiking Shoes Leather-And-Mesh,Nubuck', \"PUMA Men's Contempt Demi Training Shoes\", \"PUMA Men's Viz Runner Training Shoes\", \"PUMA Men's Neutron Training Shoes\", 'Hi-Tec Demolisher Low Trail Running Mens Brown Sneakers Athletic Shoes CH80045M', \"Lacoste Men's Storm 96 LO VTG 124 3 SMA Suede Trainers, Brown\", 'Men Liberation Shoes Lace-up Labor Protector Boots Chinese Army PLA Trainning A+', \"New Women's Men Sports Fingers Toes Shoes Socks Barefoot Trainers shoes Fashion\", 'PUMA Tazon 7 Evo Running Shoes', 'PUMA Unisex Suede Classic XXI Sneakers', 'Fila F-13 Blazertech Wp Mens Shoes', 'US Mens Sneakers Outdoor Casual Athletic Running Tennis Gym Jogging Sports Shoes', 'Mens Max Cushioned Walking & Running Shoes Sneakers,Thick Soles,Light Weight & B', \"PUMA Women's Pounce Lite Running Shoes\", \"PUMA Men's SOFTRIDE Carson ML Running Shoes\", 'No Tie Shoelaces For Women Men And Kids Elastic Silicone Shoe Laces.', \"adidas Adizero Ubersonic 5 Men's Tennis Shoes Sports All Court Red NWT IH2555\", \"PUMA Men's Axelion Refresh Running Shoes\", \"PUMA Men's Anzarun Lite Sneakers\", 'FERRAGAMO ANSON LEATHER SIGNATURE SNEAKERS PRE-OWNED WITHOUT BOX $660', 'Fila Grant Hill 2 Woven 1BM01362-142 Mens White Athletic Basketball Shoes', 'RARE 🚀 Size 10 - Jordan 1 Retro OG Low University Red CZ0790 161 Men’s Sneakers']\n"
     ]
    }
   ],
   "source": [
    "path = \"C:/Users/Ganesh Mogaveera/Downloads/chromedriver-win64/chromedriver.exe\"\n",
    "s = Service(path)\n",
    "driver = webdriver.Chrome(service = s)\n",
    "driver.get(\"https://www.ebay.com/\")\n",
    "box = driver.find_element(\"xpath\",\"/html/body/div[3]/div/div/div/div[1]/header/section/form/div[1]/div/div/input\")\n",
    "box.send_keys(\"shoes\",Keys.ENTER)\n",
    "section =driver.find_element(\"xpath\",\"/html/body/div[5]/div[4]/div[3]/div[1]/div[3]/ul\")\n",
    "shoes_name = section.find_elements(\"css selector\",'[role=\"heading\"]')\n",
    "shoes_heading = []\n",
    "for i in shoes_name:\n",
    "    l = i.text\n",
    "    shoes_heading.append(l)\n",
    "    \n",
    "print (shoes_heading)"
   ]
  },
  {
   "cell_type": "code",
   "execution_count": 3,
   "id": "fff89275",
   "metadata": {},
   "outputs": [
    {
     "name": "stdout",
     "output_type": "stream",
     "text": [
      "['$150.05', '$1.49 to $2.49', '$34.99', '$26.80', '$40.99 to $48.99', '$69.99', '$3.79 to $7.50', '$1.85', '$38.99 to $42.99', '$1.52', '$69.90', '$15.99 to $21.99', '$40.99', '$29.00', '$39.99', '$39.95', '$64.99', '$77.95', '$30.95', '$20.00', '$70.00', '$35.99', '$83.99', '$34.99', '$39.99', '$28.99', '$45.99 to $49.99', '$20.99 to $38.99', '$39.99', '$50.00 to $74.85', '$160.00', '$49.99', '$172.90', '$89.24', '$64.99', '$110.00', '$165.40 to $225.40', '$69.90', '$97.00 to $140.00', '$35.99 to $45.99', '$44.99', '$52.99 to $55.99', '$24.99', '$53.95', '$33.99', '$43.15', '$48.99 to $51.99', '$35.99 to $44.99', '$69.90', '$16.99 to $20.99', '$35.84 to $47.02', '$34.99', '$32.99', '$1.03', '$134.01 to $143.01', '$39.99 to $49.99', '$27.99 to $30.99', '$199.95', '$389.50', '$41.99', '$59.99']\n"
     ]
    }
   ],
   "source": [
    "shoes_rate = section.find_elements(\"css selector\",'[class=\"s-item__price\"]')\n",
    "shoes_heading = []\n",
    "for i in shoes_rate:\n",
    "    l = i.text\n",
    "    shoes_heading.append(l)\n",
    "print(shoes_heading)    "
   ]
  },
  {
   "cell_type": "code",
   "execution_count": 4,
   "id": "fb7299aa",
   "metadata": {},
   "outputs": [
    {
     "name": "stdout",
     "output_type": "stream",
     "text": [
      "['from Germany', 'from China', 'from United States', 'from China', 'from United States', 'from United States', 'from China', 'from China', 'from United States', 'from China', 'from United States', 'from China', 'from United States', 'from United States', 'from United States', 'from United States', 'from Germany', 'from United Kingdom', 'from China', 'from United States', 'from United States', 'from United States', 'from United States', 'from United States', 'from United States', 'from United States', 'from United States', 'from United States', 'from United States', 'from United States', 'from United States', 'from United States', 'from Germany', 'from United States', 'from United States', 'from United States', 'from Japan', 'from United States', 'from United States', 'from United States', 'from United States', 'from United States', 'from United States', 'from United Kingdom', 'from China', 'from China', 'from United States', 'from United States', 'from United States', 'from China', 'from United States', 'from United States', 'from United States', 'from China', 'from South Korea', 'from United States', 'from United States', 'from United States', 'from United States', 'from United States']\n"
     ]
    }
   ],
   "source": [
    "last_value = section.find_elements(\"css selector\",'[class=\"s-item__location s-item__itemLocation\"]')\n",
    "shoes_location = []\n",
    "for i in last_value:\n",
    "    m = i.text\n",
    "    shoes_location.append(m)\n",
    "print(shoes_location)    "
   ]
  },
  {
   "cell_type": "code",
   "execution_count": 6,
   "id": "9dfce877",
   "metadata": {},
   "outputs": [
    {
     "name": "stdout",
     "output_type": "stream",
     "text": [
      "['https://i.ebayimg.com/images/g/KtwAAOSwGOVnim4Z/s-l500.webp', 'https://i.ebayimg.com/images/g/HKUAAOSwjH5ixrqM/s-l500.webp', 'https://i.ebayimg.com/images/g/XaEAAOSw3g1nQOXt/s-l500.webp', 'https://i.ebayimg.com/images/g/x0YAAOSwPDVb0Ccv/s-l500.webp', 'https://i.ebayimg.com/images/g/xKwAAOSwgnpm~bk9/s-l500.webp', 'https://i.ebayimg.com/images/g/OIEAAOSwv~xnS6sb/s-l500.webp', 'https://i.ebayimg.com/images/g/~ykAAOSwWt1mBi42/s-l500.webp', 'https://i.ebayimg.com/images/g/F1gAAOSw4khkePrb/s-l500.webp', 'https://i.ebayimg.com/images/g/HDsAAOSwdi9nN1xp/s-l500.webp', 'https://i.ebayimg.com/images/g/57wAAOSw8fNkOKPe/s-l500.webp', 'https://i.ebayimg.com/images/g/laAAAOSwMnJmtGmX/s-l500.webp', 'https://i.ebayimg.com/images/g/4ygAAOSwMQJnhh2k/s-l500.webp', 'https://i.ebayimg.com/images/g/GyYAAOSwDEtnd4H8/s-l500.webp', 'https://i.ebayimg.com/images/g/jfwAAOSwioxnOcJs/s-l500.webp', 'https://i.ebayimg.com/images/g/6kYAAOSwyG1nd3uT/s-l500.webp', 'https://i.ebayimg.com/images/g/tx4AAOSwkelevyZq/s-l500.webp', 'https://i.ebayimg.com/images/g/yI4AAOSwKi5nG1pk/s-l500.webp', 'https://i.ebayimg.com/images/g/KoMAAOSwyGdiz~cj/s-l500.webp', 'https://i.ebayimg.com/images/g/--IAAOSwJExna3eN/s-l500.webp', 'https://i.ebayimg.com/images/g/bCAAAOSwt4JngZFw/s-l500.webp', 'https://i.ebayimg.com/images/g/FbQAAOSwSDVieZeC/s-l500.webp', 'https://i.ebayimg.com/images/g/hdIAAOSw52plIJYP/s-l500.webp', 'https://i.ebayimg.com/images/g/420AAOSwfFlnEV0j/s-l500.webp', 'https://i.ebayimg.com/images/g/9ygAAOSwo5xnd4GS/s-l500.webp', 'https://i.ebayimg.com/images/g/6IgAAOSw5Dtnd4HP/s-l500.webp', 'https://i.ebayimg.com/images/g/~4EAAOSwlxljz8ob/s-l500.webp', 'https://i.ebayimg.com/images/g/OT8AAOSwjMtnT0Qs/s-l500.webp', 'https://i.ebayimg.com/images/g/5hEAAOSwpjpnMmjy/s-l500.webp', 'https://i.ebayimg.com/images/g/yfEAAOSwpGJmlYwJ/s-l500.webp', 'https://i.ebayimg.com/images/g/WfMAAOSw7dJnXHbA/s-l500.webp', 'https://i.ebayimg.com/images/g/lM0AAOSwe91nazMI/s-l500.webp', 'https://i.ebayimg.com/images/g/-RIAAOSw44Rniq9A/s-l500.webp', 'https://i.ebayimg.com/images/g/E9QAAOSw7FFnf7ti/s-l500.webp', 'https://i.ebayimg.com/images/g/tKAAAOSwqolm~~jB/s-l500.webp', 'https://i.ebayimg.com/images/g/W8EAAOSwo9diugWj/s-l500.webp', 'https://i.ebayimg.com/images/g/z8kAAOSwzdZnSIw3/s-l500.webp', 'https://i.ebayimg.com/images/g/XWMAAOSwK8BnP8u9/s-l500.webp', 'https://i.ebayimg.com/images/g/uzYAAOSwN99mtGlG/s-l500.webp', 'https://i.ebayimg.com/images/g/IqYAAOSwK4Bm13yM/s-l500.webp', 'https://i.ebayimg.com/images/g/eAAAAOSwkMJkiBLs/s-l500.webp', 'https://i.ebayimg.com/images/g/IIcAAOSwn3dnZeEA/s-l500.webp', 'https://i.ebayimg.com/images/g/KfAAAOSw41Jm~YYA/s-l500.webp', 'https://i.ebayimg.com/images/g/hWEAAOSw1Khl5hq3/s-l500.webp', 'https://i.ebayimg.com/images/g/WO4AAOSwkcxmo41p/s-l500.webp', 'https://i.ebayimg.com/images/g/-QAAAOSwQKJmDqmv/s-l500.webp', 'https://i.ebayimg.com/images/g/nzsAAOSwgZ1XqXH8/s-l500.webp', 'https://i.ebayimg.com/images/g/dNkAAOSwOO1ndNqZ/s-l500.webp', 'https://i.ebayimg.com/images/g/m~sAAOSwc2tmCu9U/s-l500.webp', 'https://i.ebayimg.com/images/g/yCgAAOSw2BFmtGrX/s-l500.webp', 'https://i.ebayimg.com/images/g/~6UAAOSw7jhmp8vv/s-l500.webp', 'https://i.ebayimg.com/images/g/c6kAAOSww1xnT-yq/s-l500.webp', 'https://i.ebayimg.com/images/g/QaAAAOSwYv9ndNhb/s-l500.webp', 'https://i.ebayimg.com/images/g/7j8AAOSwtDxm5c3q/s-l500.webp', 'https://i.ebayimg.com/images/g/z-QAAOSwy~tlP6gC/s-l500.webp', 'https://i.ebayimg.com/images/g/JaUAAOSwGw1nZYby/s-l500.webp', 'https://i.ebayimg.com/images/g/7x0AAOSwqnJjtmQz/s-l500.webp', 'https://i.ebayimg.com/images/g/gooAAOSw18Bm5cyf/s-l500.webp', 'https://i.ebayimg.com/images/g/TmUAAOSwcztnhGaa/s-l500.webp', 'https://i.ebayimg.com/images/g/Yj8AAOSwXvFmYPRt/s-l500.webp', 'https://i.ebayimg.com/images/g/FTAAAOSwEAdnjTxH/s-l500.webp']\n"
     ]
    }
   ],
   "source": [
    "section = driver.find_element(\"xpath\",\"/html/body/div[5]/div[4]/div[3]/div[1]/div[3]\")\n",
    "image = []\n",
    "images= section.find_elements(\"css selector\",\"img[src]\")\n",
    "for i in images:\n",
    "    l=i.get_attribute(\"src\")\n",
    "    image.append(l)\n",
    "print(image) "
   ]
  },
  {
   "cell_type": "code",
   "execution_count": null,
   "id": "76148e9f",
   "metadata": {},
   "outputs": [],
   "source": []
  }
 ],
 "metadata": {
  "kernelspec": {
   "display_name": "Python 3 (ipykernel)",
   "language": "python",
   "name": "python3"
  },
  "language_info": {
   "codemirror_mode": {
    "name": "ipython",
    "version": 3
   },
   "file_extension": ".py",
   "mimetype": "text/x-python",
   "name": "python",
   "nbconvert_exporter": "python",
   "pygments_lexer": "ipython3",
   "version": "3.11.5"
  }
 },
 "nbformat": 4,
 "nbformat_minor": 5
}
